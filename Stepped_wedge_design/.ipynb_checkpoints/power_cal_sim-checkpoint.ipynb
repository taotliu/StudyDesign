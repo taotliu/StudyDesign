{
 "cells": [
  {
   "cell_type": "code",
   "execution_count": 34,
   "metadata": {},
   "outputs": [],
   "source": [
    "pacman::p_load(\"lme4\", \"simstudy\", \"dplyr\")"
   ]
  },
  {
   "cell_type": "code",
   "execution_count": 35,
   "metadata": {},
   "outputs": [],
   "source": [
    "rm(list=ls())"
   ]
  },
  {
   "cell_type": "code",
   "execution_count": 36,
   "metadata": {},
   "outputs": [],
   "source": [
    "#site=2; step=10; ngroups=30; npatients=240\n",
    "nsites=3\n",
    "nsteps=5\n",
    "ngroups=30"
   ]
  },
  {
   "cell_type": "code",
   "execution_count": null,
   "metadata": {},
   "outputs": [],
   "source": []
  },
  {
   "cell_type": "code",
   "execution_count": null,
   "metadata": {},
   "outputs": [],
   "source": []
  },
  {
   "cell_type": "code",
   "execution_count": 37,
   "metadata": {},
   "outputs": [],
   "source": [
    "# Get baseline viral load\n",
    "t.int= 4.14"
   ]
  },
  {
   "cell_type": "code",
   "execution_count": 38,
   "metadata": {},
   "outputs": [],
   "source": [
    "# Sum of all variance components\n",
    "varTotal = 0.4*2  #0.8668 * 2\n",
    "\n",
    "# Get ICC for all variables\n",
    "re.site=iccRE(.1, dist=\"normal\", varTotal = varTotal)\n",
    "re.step=iccRE(.05, dist=\"normal\", varTotal = varTotal)\n",
    "re.grp=iccRE(.1, dist=\"normal\", varTotal = varTotal)\n",
    "re.pt=iccRE(.4, dist=\"normal\", varTotal = varTotal)\n",
    "re.y =iccRE(.35, dist=\"normal\", varTotal = varTotal) "
   ]
  },
  {
   "cell_type": "code",
   "execution_count": null,
   "metadata": {},
   "outputs": [],
   "source": []
  },
  {
   "cell_type": "code",
   "execution_count": 39,
   "metadata": {},
   "outputs": [],
   "source": [
    "datGen =function(indx, es.1) {\n",
    "    set.seed(indx)\n",
    "    #define site-level data\n",
    "    def.site <- defData(varname = \"site_n\", formula = nsites, \n",
    "                        dist = \"nonrandom\", id = \"site_id\")\n",
    "    def.site <- defData(def.site, varname = \"site_re\", formula = 0, \n",
    "                        variance = re.site, dist = \"normal\")\n",
    "    def.site <- defData(def.site, varname = \"step_n\", formula = nsteps, \n",
    "                        dist = \"nonrandom\")\n",
    "\n",
    "    d.gen <- genData(nsites, def.site)\n",
    "\n",
    "    #add step-level data\n",
    "    d.gen<-genCluster(d.gen, \"site_id\", numIndsVar=\"step_n\", level1ID=\"step_id\")\n",
    "\n",
    "    #add step-level random effect \n",
    "    def.site <- defData(varname = \"step_re\", dist=\"normal\", formula=0, variance=re.step)\n",
    "    d.gen<-addColumns(def.site,d.gen)\n",
    "\n",
    "    #add number of groups\n",
    "    def.grp <- defData(varname = \"grp_n\", dist=\"normal\", formula=ngroups/nsteps/nsites, variance=0)\n",
    "    d.gen<-addColumns(def.grp,d.gen)\n",
    "\n",
    "\n",
    "\n",
    "    #add group-level data\n",
    "    d.gen<-genCluster(d.gen,\"step_id\",numIndsVar=\"grp_n\",level1ID=\"grp_id\")\n",
    "\n",
    "    #add group-level random effect\n",
    "    def.grp <- defData(varname = \"grp_re\", dist=\"normal\", formula=0,variance=re.grp)\n",
    "    d.gen<-addColumns(def.grp,d.gen)     \n",
    "\n",
    "    #add group size\n",
    "    def.grp <- defData(varname = \"pt_n\", dist=\"normal\", formula=8, variance=0)\n",
    "    d.gen<-addColumns(def.grp,d.gen)\n",
    "\n",
    "\n",
    "    # Generate patient level data\n",
    "    d.gen<-genCluster(d.gen,\"grp_id\",numIndsVar=\"pt_n\",level1ID=\"pt_id\")\n",
    "\n",
    "\n",
    "    #add patient-level random effect\n",
    "    def.pt <- defData(varname = \"pt_re\", dist=\"normal\", formula=0,variance=re.pt)\n",
    "    d.gen<-addColumns(def.pt,d.gen)\n",
    "\n",
    "    #add assessment size\n",
    "    def.assess <- defData(varname = \"assess_n\", dist=\"normal\", formula=2,variance=0)\n",
    "    d.gen<-addColumns(def.assess,d.gen)\n",
    "\n",
    "    #add assessments\n",
    "    d.gen<-genCluster(d.gen,\"pt_id\",numIndsVar=\"assess_n\",level1ID=\"assess_id\")\n",
    "\n",
    "\n",
    "    # Add treatment assignment\n",
    "    d.gen[, tx.1 := rep(c(rep(c(0,1), 8), rep(c(0,2), 8)), 15)]\n",
    "\n",
    "\n",
    "\n",
    "    #add outcome \n",
    "    gen.pt<-defDataAdd(varname=\"y\", formula=paste0(t.int,\"+tx.1*\",es.1,\"+site_re+step_re+grp_re+pt_re\"),\n",
    "                       dist=\"normal\", variance = varTotal)\n",
    "    d.gen<-addColumns(gen.pt,d.gen)\n",
    "    d.gen$tx.1 = as.factor(d.gen$tx.1)\n",
    "\n",
    "    # accounting for dropout\n",
    "    dp = 0.05 #* 2\n",
    "    index = sample(1:240, ceiling(dp * 240), replace = FALSE)\n",
    "    d.gen.dp = d.gen[-index * 2, ]\n",
    "\n",
    "\n",
    "\n",
    "    # Aim 1\n",
    "\n",
    "    #analyse using lme4\n",
    "    d.gen.1.0 = d.gen\n",
    "    d.gen.1.0$tx.1[d.gen.1.0$tx.1 == \"2\"] = \"1\" \n",
    "    d.gen.1.0$tx.1 = droplevels(d.gen.1.0$tx.1)\n",
    "    m1<-suppressMessages(lmer(y ~ tx.1 + (1|site_id)+(1|step_id/grp_id/pt_id), data = d.gen.1.0) )\n",
    "\n",
    "    p1 = 2*pnorm(abs(coef(summary(m1))[,\"t value\"]), lower=FALSE)[2]\n",
    "\n",
    "    # Aim 2\n",
    "    d.gen.1.2 = d.gen[d.gen$tx.1 %in% c(\"1\", \"2\"), ]\n",
    "    d.gen.1.2$tx.1 = droplevels(d.gen.1.2$tx.1)\n",
    "    m1<-suppressMessages(lmer(y ~ tx.1 + (1|site_id)+(1|step_id/grp_id), data = d.gen.1.2) )\n",
    "    p2 = 2*pnorm(abs(coef(summary(m1))[,\"t value\"]), lower=FALSE)[2]      \n",
    "    \n",
    "    c(p1, p2) \n",
    "}"
   ]
  },
  {
   "cell_type": "code",
   "execution_count": 40,
   "metadata": {},
   "outputs": [
    {
     "name": "stdout",
     "output_type": "stream",
     "text": [
      "[1] 0.3\n",
      "[1] 0.35\n",
      "[1] 0.4\n",
      "[1] 0.45\n",
      "[1] 0.5\n",
      "[1] 0.55\n",
      "[1] 0.6\n",
      "[1] 0.65\n",
      "[1] 0.7\n"
     ]
    }
   ],
   "source": [
    "powerSum = NULL\n",
    "\n",
    "options(warn = -1)\n",
    "for(i in seq(0.3, 0.7, by=0.05) ){\n",
    "    print(i)\n",
    "    foo = lapply(1:500, datGen, es.1=i)\n",
    "\n",
    "    out = do.call(rbind.data.frame, foo)\n",
    "    colnames(out) = c(\"aim1\", \"aim2\")\n",
    "\n",
    "    powerSum = rbind(powerSum, c(i, apply(out < 0.05, 2, mean)))\n",
    "}"
   ]
  },
  {
   "cell_type": "code",
   "execution_count": 41,
   "metadata": {},
   "outputs": [
    {
     "data": {
      "text/html": [
       "<table>\n",
       "<caption>A matrix: 9 × 3 of type dbl</caption>\n",
       "<thead>\n",
       "\t<tr><th scope=col></th><th scope=col>aim1</th><th scope=col>aim2</th></tr>\n",
       "</thead>\n",
       "<tbody>\n",
       "\t<tr><td>0.30</td><td>1</td><td>0.470</td></tr>\n",
       "\t<tr><td>0.35</td><td>1</td><td>0.584</td></tr>\n",
       "\t<tr><td>0.40</td><td>1</td><td>0.676</td></tr>\n",
       "\t<tr><td>0.45</td><td>1</td><td>0.778</td></tr>\n",
       "\t<tr><td>0.50</td><td>1</td><td>0.838</td></tr>\n",
       "\t<tr><td>0.55</td><td>1</td><td>0.892</td></tr>\n",
       "\t<tr><td>0.60</td><td>1</td><td>0.930</td></tr>\n",
       "\t<tr><td>0.65</td><td>1</td><td>0.966</td></tr>\n",
       "\t<tr><td>0.70</td><td>1</td><td>0.982</td></tr>\n",
       "</tbody>\n",
       "</table>\n"
      ],
      "text/latex": [
       "A matrix: 9 × 3 of type dbl\n",
       "\\begin{tabular}{lll}\n",
       "  & aim1 & aim2\\\\\n",
       "\\hline\n",
       "\t 0.30 & 1 & 0.470\\\\\n",
       "\t 0.35 & 1 & 0.584\\\\\n",
       "\t 0.40 & 1 & 0.676\\\\\n",
       "\t 0.45 & 1 & 0.778\\\\\n",
       "\t 0.50 & 1 & 0.838\\\\\n",
       "\t 0.55 & 1 & 0.892\\\\\n",
       "\t 0.60 & 1 & 0.930\\\\\n",
       "\t 0.65 & 1 & 0.966\\\\\n",
       "\t 0.70 & 1 & 0.982\\\\\n",
       "\\end{tabular}\n"
      ],
      "text/markdown": [
       "\n",
       "A matrix: 9 × 3 of type dbl\n",
       "\n",
       "| <!----> | aim1 | aim2 |\n",
       "|---|---|---|\n",
       "| 0.30 | 1 | 0.470 |\n",
       "| 0.35 | 1 | 0.584 |\n",
       "| 0.40 | 1 | 0.676 |\n",
       "| 0.45 | 1 | 0.778 |\n",
       "| 0.50 | 1 | 0.838 |\n",
       "| 0.55 | 1 | 0.892 |\n",
       "| 0.60 | 1 | 0.930 |\n",
       "| 0.65 | 1 | 0.966 |\n",
       "| 0.70 | 1 | 0.982 |\n",
       "\n"
      ],
      "text/plain": [
       "           aim1 aim2 \n",
       " [1,] 0.30 1    0.470\n",
       " [2,] 0.35 1    0.584\n",
       " [3,] 0.40 1    0.676\n",
       " [4,] 0.45 1    0.778\n",
       " [5,] 0.50 1    0.838\n",
       " [6,] 0.55 1    0.892\n",
       " [7,] 0.60 1    0.930\n",
       " [8,] 0.65 1    0.966\n",
       " [9,] 0.70 1    0.982"
      ]
     },
     "metadata": {},
     "output_type": "display_data"
    }
   ],
   "source": [
    "powerSum"
   ]
  },
  {
   "cell_type": "code",
   "execution_count": 64,
   "metadata": {},
   "outputs": [
    {
     "data": {
      "image/png": "[encoded data removed]",
      "text/plain": [
       "plot without title"
      ]
     },
     "metadata": {
      "image/png": {
       "height": 420,
       "width": 420
      }
     },
     "output_type": "display_data"
    }
   ],
   "source": [
    "plot(powerSum[, c(1, 3)], type=\"b\", ylab=\"Power\", xlab=\"Effect Size\", ylim=c(0, 1.02), lwd=2, pch=2)\n",
    "lines(powerSum[, c(1,2)], type=\"b\", lwd=2)\n",
    "abline(h=0.8, lty=5)\n",
    "legend(0.6, 0.2, legend=c(\"Aim 1\", \"Aim 2\"), lty=c(1,1), pch=c(1,2))"
   ]
  },
  {
   "cell_type": "code",
   "execution_count": 65,
   "metadata": {},
   "outputs": [],
   "source": [
    "save(powerSum, file = \"power_summary.rdat\")"
   ]
  },
  {
   "cell_type": "code",
   "execution_count": null,
   "metadata": {},
   "outputs": [],
   "source": []
  },
  {
   "cell_type": "code",
   "execution_count": null,
   "metadata": {},
   "outputs": [],
   "source": []
  },
  {
   "cell_type": "code",
   "execution_count": null,
   "metadata": {},
   "outputs": [],
   "source": []
  },
  {
   "cell_type": "code",
   "execution_count": null,
   "metadata": {},
   "outputs": [],
   "source": []
  }
 ],
 "metadata": {
  "kernelspec": {
   "display_name": "R",
   "language": "R",
   "name": "ir"
  },
  "language_info": {
   "codemirror_mode": "r",
   "file_extension": ".r",
   "mimetype": "text/x-r-source",
   "name": "R",
   "pygments_lexer": "r",
   "version": "4.0.4"
  }
 },
 "nbformat": 4,
 "nbformat_minor": 4
}
